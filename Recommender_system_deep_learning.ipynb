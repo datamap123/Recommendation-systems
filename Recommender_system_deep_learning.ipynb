{
  "nbformat": 4,
  "nbformat_minor": 0,
  "metadata": {
    "colab": {
      "name": "Recommender system -deep learning.ipynb",
      "provenance": [],
      "collapsed_sections": []
    },
    "kernelspec": {
      "name": "python3",
      "display_name": "Python 3"
    },
    "language_info": {
      "name": "python"
    }
  },
  "cells": [
    {
      "cell_type": "markdown",
      "metadata": {
        "id": "_kjA9Q-lzbM0"
      },
      "source": [
        "# Recommender system using deep learning"
      ]
    },
    {
      "cell_type": "markdown",
      "metadata": {
        "id": "f-7Si2WSzx1-"
      },
      "source": [
        "I use here Movielens 100-k dataset for building a recommender system.\n",
        "The dataset is obtained from here: https://grouplens.org/datasets/movielens. This is a smaller dataset containing 100,000 ratings and 3,600 tag applications applied to 9,000 movies by 600 users. Last updated 9/2018.\n",
        "\n",
        "The well-known way to create a recommender system is to use Matrix factorization. The matrix factorization can be implemented with the methods used in NLP (natural language processing) called embeddings. Embeddings create vectorisation of users and movies, which is similar to creating vectorisation through user- and movie- matrix factorisation."
      ]
    },
    {
      "cell_type": "markdown",
      "metadata": {
        "id": "mu4OiJP2zjgj"
      },
      "source": [
        "## 1. Load the movielens data"
      ]
    },
    {
      "cell_type": "markdown",
      "metadata": {
        "id": "6CLy65V70TRY"
      },
      "source": [
        "First, import the needed packages."
      ]
    },
    {
      "cell_type": "code",
      "metadata": {
        "id": "bYosnVXY0A7n"
      },
      "source": [
        "import tensorflow as tf\n",
        "from tensorflow import keras\n",
        "from sklearn.utils import shuffle\n",
        "import numpy as np\n",
        "import pandas as pd\n",
        "import matplotlib.pyplot as plt"
      ],
      "execution_count": 28,
      "outputs": []
    },
    {
      "cell_type": "markdown",
      "metadata": {
        "id": "cOff1tgfz_Tg"
      },
      "source": [
        "Then load the 100-k Movielens dataset from their web pages: https://grouplens.org/datasets/movielens. "
      ]
    },
    {
      "cell_type": "code",
      "metadata": {
        "colab": {
          "base_uri": "https://localhost:8080/"
        },
        "id": "VkNquPk40gGl",
        "outputId": "be92fc2a-980e-4efa-f3dc-0e3c0b80fc10"
      },
      "source": [
        "!wget -nc https://files.grouplens.org/datasets/movielens/ml-latest-small.zip"
      ],
      "execution_count": 21,
      "outputs": [
        {
          "output_type": "stream",
          "name": "stdout",
          "text": [
            "File ‘ml-latest-small.zip’ already there; not retrieving.\n",
            "\n"
          ]
        }
      ]
    },
    {
      "cell_type": "code",
      "metadata": {
        "colab": {
          "base_uri": "https://localhost:8080/"
        },
        "id": "mviDPQbc02_l",
        "outputId": "8427c3fb-254a-47fb-ed0e-b5812c0ceacd"
      },
      "source": [
        "!unzip -n ml-latest-small.zip"
      ],
      "execution_count": 22,
      "outputs": [
        {
          "output_type": "stream",
          "name": "stdout",
          "text": [
            "Archive:  ml-latest-small.zip\n"
          ]
        }
      ]
    },
    {
      "cell_type": "code",
      "metadata": {
        "colab": {
          "base_uri": "https://localhost:8080/"
        },
        "id": "lzZr5JnI2LTe",
        "outputId": "2dfb39fd-b282-401c-90b1-138c9f8e56ed"
      },
      "source": [
        "!ls"
      ],
      "execution_count": 23,
      "outputs": [
        {
          "output_type": "stream",
          "name": "stdout",
          "text": [
            "ml-latest-small  ml-latest-small.zip  sample_data\n"
          ]
        }
      ]
    },
    {
      "cell_type": "markdown",
      "metadata": {
        "id": "yHiFFmfM2Uhb"
      },
      "source": [
        "## 2. Explore the movielens data"
      ]
    },
    {
      "cell_type": "markdown",
      "metadata": {
        "id": "giESdOOW2vdw"
      },
      "source": [
        "The data are contained in the files links.csv, movies.csv, ratings.csv and tags.csv.  Let's look at the ratings file."
      ]
    },
    {
      "cell_type": "code",
      "metadata": {
        "colab": {
          "base_uri": "https://localhost:8080/",
          "height": 206
        },
        "id": "h7hsZrt53B3n",
        "outputId": "e45a1dda-7eff-4346-8226-274d6f7cad7b"
      },
      "source": [
        "ratings_file=pd.read_csv('ml-latest-small/ratings.csv')\n",
        "ratings_file.head()"
      ],
      "execution_count": 24,
      "outputs": [
        {
          "output_type": "execute_result",
          "data": {
            "text/html": [
              "<div>\n",
              "<style scoped>\n",
              "    .dataframe tbody tr th:only-of-type {\n",
              "        vertical-align: middle;\n",
              "    }\n",
              "\n",
              "    .dataframe tbody tr th {\n",
              "        vertical-align: top;\n",
              "    }\n",
              "\n",
              "    .dataframe thead th {\n",
              "        text-align: right;\n",
              "    }\n",
              "</style>\n",
              "<table border=\"1\" class=\"dataframe\">\n",
              "  <thead>\n",
              "    <tr style=\"text-align: right;\">\n",
              "      <th></th>\n",
              "      <th>userId</th>\n",
              "      <th>movieId</th>\n",
              "      <th>rating</th>\n",
              "      <th>timestamp</th>\n",
              "    </tr>\n",
              "  </thead>\n",
              "  <tbody>\n",
              "    <tr>\n",
              "      <th>0</th>\n",
              "      <td>1</td>\n",
              "      <td>1</td>\n",
              "      <td>4.0</td>\n",
              "      <td>964982703</td>\n",
              "    </tr>\n",
              "    <tr>\n",
              "      <th>1</th>\n",
              "      <td>1</td>\n",
              "      <td>3</td>\n",
              "      <td>4.0</td>\n",
              "      <td>964981247</td>\n",
              "    </tr>\n",
              "    <tr>\n",
              "      <th>2</th>\n",
              "      <td>1</td>\n",
              "      <td>6</td>\n",
              "      <td>4.0</td>\n",
              "      <td>964982224</td>\n",
              "    </tr>\n",
              "    <tr>\n",
              "      <th>3</th>\n",
              "      <td>1</td>\n",
              "      <td>47</td>\n",
              "      <td>5.0</td>\n",
              "      <td>964983815</td>\n",
              "    </tr>\n",
              "    <tr>\n",
              "      <th>4</th>\n",
              "      <td>1</td>\n",
              "      <td>50</td>\n",
              "      <td>5.0</td>\n",
              "      <td>964982931</td>\n",
              "    </tr>\n",
              "  </tbody>\n",
              "</table>\n",
              "</div>"
            ],
            "text/plain": [
              "   userId  movieId  rating  timestamp\n",
              "0       1        1     4.0  964982703\n",
              "1       1        3     4.0  964981247\n",
              "2       1        6     4.0  964982224\n",
              "3       1       47     5.0  964983815\n",
              "4       1       50     5.0  964982931"
            ]
          },
          "metadata": {},
          "execution_count": 24
        }
      ]
    },
    {
      "cell_type": "code",
      "metadata": {
        "colab": {
          "base_uri": "https://localhost:8080/"
        },
        "id": "XriOQXZTB-p5",
        "outputId": "a169cfcb-ecf8-4769-eb15-7213050444e6"
      },
      "source": [
        "len(ratings_file)"
      ],
      "execution_count": 25,
      "outputs": [
        {
          "output_type": "execute_result",
          "data": {
            "text/plain": [
              "100836"
            ]
          },
          "metadata": {},
          "execution_count": 25
        }
      ]
    },
    {
      "cell_type": "markdown",
      "metadata": {
        "id": "GYTJC9aE9tG4"
      },
      "source": [
        "## 3. Create user, movie and ratings vectors"
      ]
    },
    {
      "cell_type": "markdown",
      "metadata": {
        "id": "ibIJ4mn93khp"
      },
      "source": [
        "Let's turn the userIds and movieIds into categories to ensure that numbering starts from 0 and that there are no numbers skipped in the ids, since movielens 100k dataset is a stripped version of a bigger dataset."
      ]
    },
    {
      "cell_type": "code",
      "metadata": {
        "id": "RJm022a05Q7y"
      },
      "source": [
        "ratings_file['userId']=pd.Categorical(ratings_file.userId)\n",
        "ratings_file['movieId']=pd.Categorical(ratings_file.movieId)\n",
        "# Create new columns containing category codes\n",
        "ratings_file['userId_cat_code']=ratings_file.userId.cat.codes\n",
        "ratings_file['movieId_cat_code']=ratings_file.movieId.cat.codes"
      ],
      "execution_count": 8,
      "outputs": []
    },
    {
      "cell_type": "code",
      "metadata": {
        "colab": {
          "base_uri": "https://localhost:8080/",
          "height": 206
        },
        "id": "SjE56n_V6Yhy",
        "outputId": "ab960b12-a88c-470e-b2eb-d611a2c34d46"
      },
      "source": [
        "ratings_file.head()"
      ],
      "execution_count": 9,
      "outputs": [
        {
          "output_type": "execute_result",
          "data": {
            "text/html": [
              "<div>\n",
              "<style scoped>\n",
              "    .dataframe tbody tr th:only-of-type {\n",
              "        vertical-align: middle;\n",
              "    }\n",
              "\n",
              "    .dataframe tbody tr th {\n",
              "        vertical-align: top;\n",
              "    }\n",
              "\n",
              "    .dataframe thead th {\n",
              "        text-align: right;\n",
              "    }\n",
              "</style>\n",
              "<table border=\"1\" class=\"dataframe\">\n",
              "  <thead>\n",
              "    <tr style=\"text-align: right;\">\n",
              "      <th></th>\n",
              "      <th>userId</th>\n",
              "      <th>movieId</th>\n",
              "      <th>rating</th>\n",
              "      <th>timestamp</th>\n",
              "      <th>userId_cat_code</th>\n",
              "      <th>movieId_cat_code</th>\n",
              "    </tr>\n",
              "  </thead>\n",
              "  <tbody>\n",
              "    <tr>\n",
              "      <th>0</th>\n",
              "      <td>1</td>\n",
              "      <td>1</td>\n",
              "      <td>4.0</td>\n",
              "      <td>964982703</td>\n",
              "      <td>0</td>\n",
              "      <td>0</td>\n",
              "    </tr>\n",
              "    <tr>\n",
              "      <th>1</th>\n",
              "      <td>1</td>\n",
              "      <td>3</td>\n",
              "      <td>4.0</td>\n",
              "      <td>964981247</td>\n",
              "      <td>0</td>\n",
              "      <td>2</td>\n",
              "    </tr>\n",
              "    <tr>\n",
              "      <th>2</th>\n",
              "      <td>1</td>\n",
              "      <td>6</td>\n",
              "      <td>4.0</td>\n",
              "      <td>964982224</td>\n",
              "      <td>0</td>\n",
              "      <td>5</td>\n",
              "    </tr>\n",
              "    <tr>\n",
              "      <th>3</th>\n",
              "      <td>1</td>\n",
              "      <td>47</td>\n",
              "      <td>5.0</td>\n",
              "      <td>964983815</td>\n",
              "      <td>0</td>\n",
              "      <td>43</td>\n",
              "    </tr>\n",
              "    <tr>\n",
              "      <th>4</th>\n",
              "      <td>1</td>\n",
              "      <td>50</td>\n",
              "      <td>5.0</td>\n",
              "      <td>964982931</td>\n",
              "      <td>0</td>\n",
              "      <td>46</td>\n",
              "    </tr>\n",
              "  </tbody>\n",
              "</table>\n",
              "</div>"
            ],
            "text/plain": [
              "  userId movieId  rating  timestamp  userId_cat_code  movieId_cat_code\n",
              "0      1       1     4.0  964982703                0                 0\n",
              "1      1       3     4.0  964981247                0                 2\n",
              "2      1       6     4.0  964982224                0                 5\n",
              "3      1      47     5.0  964983815                0                43\n",
              "4      1      50     5.0  964982931                0                46"
            ]
          },
          "metadata": {},
          "execution_count": 9
        }
      ]
    },
    {
      "cell_type": "markdown",
      "metadata": {
        "id": "ZpJF3qqv6_89"
      },
      "source": [
        "Create numpy arrays, containing categorical userIds, movieIds and ratings"
      ]
    },
    {
      "cell_type": "code",
      "metadata": {
        "id": "PBT48cYn7CuB"
      },
      "source": [
        "user_ids=ratings_file['userId_cat_code'].values\n",
        "movie_ids=ratings_file['movieId_cat_code'].values\n",
        "ratings=ratings_file['rating'].values"
      ],
      "execution_count": 10,
      "outputs": []
    },
    {
      "cell_type": "code",
      "metadata": {
        "colab": {
          "base_uri": "https://localhost:8080/"
        },
        "id": "2oxokTZw8BME",
        "outputId": "5c27a9d5-94ca-496e-e6d6-e4cf4964af88"
      },
      "source": [
        "user_ids[0:5]"
      ],
      "execution_count": 16,
      "outputs": [
        {
          "output_type": "execute_result",
          "data": {
            "text/plain": [
              "array([0, 0, 0, 0, 0], dtype=int16)"
            ]
          },
          "metadata": {},
          "execution_count": 16
        }
      ]
    },
    {
      "cell_type": "code",
      "metadata": {
        "colab": {
          "base_uri": "https://localhost:8080/"
        },
        "id": "U32JiM-l8B2R",
        "outputId": "716c05d4-8700-4583-828e-5178067e9386"
      },
      "source": [
        "movie_ids[0:5]"
      ],
      "execution_count": 17,
      "outputs": [
        {
          "output_type": "execute_result",
          "data": {
            "text/plain": [
              "array([ 0,  2,  5, 43, 46], dtype=int16)"
            ]
          },
          "metadata": {},
          "execution_count": 17
        }
      ]
    },
    {
      "cell_type": "code",
      "metadata": {
        "colab": {
          "base_uri": "https://localhost:8080/"
        },
        "id": "ZK88jtGT8N7U",
        "outputId": "322eb6c9-a06d-41fb-f2da-b05d2aa37f99"
      },
      "source": [
        "ratings[0:5]"
      ],
      "execution_count": 18,
      "outputs": [
        {
          "output_type": "execute_result",
          "data": {
            "text/plain": [
              "array([4., 4., 4., 5., 5.])"
            ]
          },
          "metadata": {},
          "execution_count": 18
        }
      ]
    },
    {
      "cell_type": "markdown",
      "metadata": {
        "id": "uKy-mQjD8hq2"
      },
      "source": [
        "Find out the distinct number of users and movies.\n",
        "\n",
        "And define the embedding dimension. That defines the lengths of a user vector and movie vector."
      ]
    },
    {
      "cell_type": "code",
      "metadata": {
        "colab": {
          "base_uri": "https://localhost:8080/"
        },
        "id": "INdu7kb-8k4l",
        "outputId": "047f0852-226c-412d-cb07-348b8e7237aa"
      },
      "source": [
        "N=len(set(user_ids))\n",
        "M=len(set(movie_ids))\n",
        "K=10\n",
        "print(f\"Number of users: {N}. Number of movies: {M}, Embedding dimension: {K}.\")\n"
      ],
      "execution_count": 19,
      "outputs": [
        {
          "output_type": "stream",
          "name": "stdout",
          "text": [
            "Number of users: 610. Number of movies: 9724, Embedding dimension: 10.\n"
          ]
        }
      ]
    },
    {
      "cell_type": "markdown",
      "metadata": {
        "id": "t2DMahi097I4"
      },
      "source": [
        "## 4. Create the neural network for recommendation system"
      ]
    },
    {
      "cell_type": "markdown",
      "metadata": {
        "id": "Tu3LhQDE-Jyu"
      },
      "source": [
        "The idea is the model is to perform following steps: \n",
        "- have two parallel inputs for the model: users and movies\n",
        "- create embeddings for users and movies, respectively. \n",
        "- concatenate the user and movie embedding into one feature vector\n",
        "- after that use a regular feedforward neural network, with regression output\n",
        "- the regression output means that there is no activation layer at the output\n",
        "\n",
        "The idea in the embeddings is following\n",
        "- The embeddings are similar to user and movie vectors in the matrix factorization, containing the knowledge of user preferences and movie types or genres. \n",
        "- A certain user id refers to (and thus selects) a certain row of the user embeddings matrix N * K, of size 1 * K\n",
        "- A certain movie id refers to (and thus selects) a certain row of the movie embeddings matrix M * K, of size 1 * K\n",
        "\n"
      ]
    },
    {
      "cell_type": "code",
      "metadata": {
        "id": "gK6B6hIEH64L"
      },
      "source": [
        "from keras.layers import Input,Embedding,Concatenate,Flatten,Dense\n",
        "from keras import Model"
      ],
      "execution_count": 42,
      "outputs": []
    },
    {
      "cell_type": "code",
      "metadata": {
        "id": "hko7a3sWJ1wr"
      },
      "source": [
        "# Two parallel inputs : users and movies\n",
        "users=Input(shape=(1,)) \n",
        "movies=Input(shape=(1,)) \n",
        "# Create user and movie embeddings. \n",
        "user_embedding=Embedding(N,K)(users) # output from this is (num_samples,1,K)\n",
        "movie_embedding=Embedding(M,K)(movies) # output from this is (num_samples,1,K)\n",
        "# Flatten the embeddings so that they can be concatenated together\n",
        "user_embedding=Flatten()(user_embedding) # Flatten it to size (num_samples,K)\n",
        "movie_embedding=Flatten()(movie_embedding) # Flatten it to size (num_samples,K)\n",
        "# Concatenate the user and movie embeddings into a feature vector\n",
        "x=Concatenate()([user_embedding,movie_embedding]) # output is (num_samples, 2*K)\n",
        "# Input the feature vector into a feed forward neural network \n",
        "x = Dense(1024,activation='relu')(x)\n",
        "# Output is a regression, thus without activation layer\n",
        "x=Dense(1)(x)"
      ],
      "execution_count": 36,
      "outputs": []
    },
    {
      "cell_type": "markdown",
      "metadata": {
        "id": "ossSbwJOKK1T"
      },
      "source": [
        "Compile the model. Pass the inputs as a list, since the model assumes two inputs."
      ]
    },
    {
      "cell_type": "code",
      "metadata": {
        "id": "3j5uu6GbLnE7"
      },
      "source": [
        "# Create optimizer\n",
        "opt = keras.optimizers.SGD(learning_rate=0.8,momentum=0.9)"
      ],
      "execution_count": 43,
      "outputs": []
    },
    {
      "cell_type": "code",
      "metadata": {
        "id": "A7Ur8VVwKTQS"
      },
      "source": [
        "rec_model=Model(inputs=[users,movies],outputs=x)\n",
        "rec_model.compile(loss='mse',optimizer=opt)"
      ],
      "execution_count": 44,
      "outputs": []
    },
    {
      "cell_type": "markdown",
      "metadata": {
        "id": "Nn_MLSAiL0jQ"
      },
      "source": [
        "## 5. Create the training and test data sets"
      ]
    },
    {
      "cell_type": "markdown",
      "metadata": {
        "id": "IygflOIFL8z2"
      },
      "source": [
        "Let's define that the training set is 80 % of the data."
      ]
    },
    {
      "cell_type": "code",
      "metadata": {
        "id": "29H34_eAMHYC"
      },
      "source": [
        "user_ids, movie_ids,ratings = shuffle(user_ids,movie_ids,ratings)\n",
        "samples_train=int(0.8*len(ratings))\n",
        "user_train=user_ids[:samples_train]\n",
        "movie_train=movie_ids[:samples_train]\n",
        "ratings_train=ratings[:samples_train]\n",
        "user_test=user_ids[samples_train:]\n",
        "movie_test=movie_ids[samples_train:]\n",
        "ratings_test=ratings[samples_train:]"
      ],
      "execution_count": 45,
      "outputs": []
    },
    {
      "cell_type": "markdown",
      "metadata": {
        "id": "MkvPk4FkM497"
      },
      "source": [
        "Modify the ratings so that the values are centered at zero."
      ]
    },
    {
      "cell_type": "code",
      "metadata": {
        "colab": {
          "base_uri": "https://localhost:8080/"
        },
        "id": "7SodNg3sM78l",
        "outputId": "412084cd-8b54-4072-9e50-98749151e35f"
      },
      "source": [
        "ratings_mean=ratings_train.mean()\n",
        "ratings_train=ratings_train-ratings_mean\n",
        "ratings_test=ratings_test-ratings_mean\n",
        "ratings_train[0:5]"
      ],
      "execution_count": 46,
      "outputs": [
        {
          "output_type": "execute_result",
          "data": {
            "text/plain": [
              "array([-3.00147518,  0.49852482,  1.49852482,  0.49852482, -1.50147518])"
            ]
          },
          "metadata": {},
          "execution_count": 46
        }
      ]
    },
    {
      "cell_type": "code",
      "metadata": {
        "colab": {
          "base_uri": "https://localhost:8080/"
        },
        "id": "pR1C7x-jNXhW",
        "outputId": "929e469b-aae0-4574-edef-9d158b1c7de4"
      },
      "source": [
        "ratings_mean"
      ],
      "execution_count": 47,
      "outputs": [
        {
          "output_type": "execute_result",
          "data": {
            "text/plain": [
              "3.501475182228393"
            ]
          },
          "metadata": {},
          "execution_count": 47
        }
      ]
    },
    {
      "cell_type": "markdown",
      "metadata": {
        "id": "qQWqJkI7Nucs"
      },
      "source": [
        "## 6. Train the recommendation model"
      ]
    },
    {
      "cell_type": "markdown",
      "metadata": {
        "id": "tPSd-7vsN10C"
      },
      "source": [
        "Input is again given as a list, since the model has two inputs."
      ]
    },
    {
      "cell_type": "code",
      "metadata": {
        "colab": {
          "base_uri": "https://localhost:8080/"
        },
        "id": "CuDRjewuN7er",
        "outputId": "771a0f2d-1e56-436c-de2c-950cca1a272d"
      },
      "source": [
        "rec=rec_model.fit(\n",
        "    x=[user_train,movie_train],\n",
        "    y=ratings_train,\n",
        "    epochs=25,\n",
        "    batch_size=1024,\n",
        "    verbose=2,\n",
        "    validation_data=([user_test,movie_test],ratings_test)\n",
        ")"
      ],
      "execution_count": 49,
      "outputs": [
        {
          "output_type": "stream",
          "name": "stdout",
          "text": [
            "Epoch 1/25\n",
            "79/79 - 2s - loss: 0.9911 - val_loss: 0.8588 - 2s/epoch - 26ms/step\n",
            "Epoch 2/25\n",
            "79/79 - 1s - loss: 0.8229 - val_loss: 0.8081 - 966ms/epoch - 12ms/step\n",
            "Epoch 3/25\n",
            "79/79 - 1s - loss: 0.7748 - val_loss: 0.8107 - 974ms/epoch - 12ms/step\n",
            "Epoch 4/25\n",
            "79/79 - 1s - loss: 0.7466 - val_loss: 0.7851 - 928ms/epoch - 12ms/step\n",
            "Epoch 5/25\n",
            "79/79 - 1s - loss: 0.6934 - val_loss: 0.7575 - 967ms/epoch - 12ms/step\n",
            "Epoch 6/25\n",
            "79/79 - 1s - loss: 0.6845 - val_loss: 0.7290 - 890ms/epoch - 11ms/step\n",
            "Epoch 7/25\n",
            "79/79 - 1s - loss: 0.6751 - val_loss: 0.7348 - 877ms/epoch - 11ms/step\n",
            "Epoch 8/25\n",
            "79/79 - 1s - loss: 0.6378 - val_loss: 0.7368 - 868ms/epoch - 11ms/step\n",
            "Epoch 9/25\n",
            "79/79 - 1s - loss: 0.6329 - val_loss: 0.7318 - 857ms/epoch - 11ms/step\n",
            "Epoch 10/25\n",
            "79/79 - 1s - loss: 0.6282 - val_loss: 0.8329 - 880ms/epoch - 11ms/step\n",
            "Epoch 11/25\n",
            "79/79 - 1s - loss: 0.6341 - val_loss: 0.7600 - 963ms/epoch - 12ms/step\n",
            "Epoch 12/25\n",
            "79/79 - 1s - loss: 0.5937 - val_loss: 0.7491 - 917ms/epoch - 12ms/step\n",
            "Epoch 13/25\n",
            "79/79 - 1s - loss: 0.5825 - val_loss: 0.7763 - 883ms/epoch - 11ms/step\n",
            "Epoch 14/25\n",
            "79/79 - 1s - loss: 0.5585 - val_loss: 0.7955 - 868ms/epoch - 11ms/step\n",
            "Epoch 15/25\n",
            "79/79 - 1s - loss: 0.5555 - val_loss: 0.8038 - 926ms/epoch - 12ms/step\n",
            "Epoch 16/25\n",
            "79/79 - 1s - loss: 0.5509 - val_loss: 0.7658 - 893ms/epoch - 11ms/step\n",
            "Epoch 17/25\n",
            "79/79 - 1s - loss: 0.5252 - val_loss: 0.7848 - 861ms/epoch - 11ms/step\n",
            "Epoch 18/25\n",
            "79/79 - 1s - loss: 0.5180 - val_loss: 0.7926 - 864ms/epoch - 11ms/step\n",
            "Epoch 19/25\n",
            "79/79 - 1s - loss: 0.5071 - val_loss: 0.7845 - 870ms/epoch - 11ms/step\n",
            "Epoch 20/25\n",
            "79/79 - 1s - loss: 0.4899 - val_loss: 0.8562 - 938ms/epoch - 12ms/step\n",
            "Epoch 21/25\n",
            "79/79 - 1s - loss: 0.4895 - val_loss: 0.8160 - 839ms/epoch - 11ms/step\n",
            "Epoch 22/25\n",
            "79/79 - 1s - loss: 0.4642 - val_loss: 0.7992 - 867ms/epoch - 11ms/step\n",
            "Epoch 23/25\n",
            "79/79 - 1s - loss: 0.4567 - val_loss: 0.8117 - 924ms/epoch - 12ms/step\n",
            "Epoch 24/25\n",
            "79/79 - 1s - loss: 0.4628 - val_loss: 0.8334 - 875ms/epoch - 11ms/step\n",
            "Epoch 25/25\n",
            "79/79 - 1s - loss: 0.4420 - val_loss: 0.8128 - 923ms/epoch - 12ms/step\n"
          ]
        }
      ]
    },
    {
      "cell_type": "markdown",
      "metadata": {
        "id": "Dnkg9x29O0gU"
      },
      "source": [
        "Plot losses"
      ]
    },
    {
      "cell_type": "code",
      "metadata": {
        "colab": {
          "base_uri": "https://localhost:8080/",
          "height": 265
        },
        "id": "NEZS6BxHO2ZN",
        "outputId": "56c4af3c-dbe9-46ac-e0c7-7e7a21dabe0c"
      },
      "source": [
        "plt.plot(rec.history['loss'], label='train loss')\n",
        "plt.plot(rec.history['val_loss'], label='val loss')\n",
        "plt.legend()\n",
        "plt.show()"
      ],
      "execution_count": 50,
      "outputs": [
        {
          "output_type": "display_data",
          "data": {
            "image/png": "[encoded data removed]",
            "text/plain": [
              "<Figure size 432x288 with 1 Axes>"
            ]
          },
          "metadata": {
            "needs_background": "light"
          }
        }
      ]
    },
    {
      "cell_type": "markdown",
      "metadata": {
        "id": "c74Hv4jpPSit"
      },
      "source": [
        "## 7. Benchmarking with other approaches"
      ]
    },
    {
      "cell_type": "markdown",
      "metadata": {
        "id": "Us7loZl1QGYm"
      },
      "source": [
        "Benchmark result for movielens 100k dataset, see : https://paperswithcode.com/sota/collaborative-filtering-on-movielens-100k\n",
        "\n",
        "The best result: RMSE=0.890, but not clear if it is done with the most recent 100k dataset, since they seem to update it continuously.\n",
        "\n",
        "So the result from the rec_model is comparable."
      ]
    }
  ]
}