{
 "cells": [
  {
   "cell_type": "markdown",
   "id": "0b5f7445",
   "metadata": {},
   "source": [
    "# Recommender system with collaborative filtering"
   ]
  },
  {
   "cell_type": "markdown",
   "id": "09f399be",
   "metadata": {},
   "source": [
    "This notebook uses Movielens dataset for building a recommender system. \n",
    "The smallest dataset is used here (ml-latest-small.zip) : 100,000 ratings and 3,600 tag applications applied to 9,000 movies by 600 users. It is last updated 9/2018."
   ]
  },
  {
   "cell_type": "markdown",
   "id": "c0f99fea",
   "metadata": {},
   "source": [
    "## 1. Loading the dataset"
   ]
  },
  {
   "cell_type": "markdown",
   "id": "aae39b4e",
   "metadata": {},
   "source": [
    "The dataset is loaded from movielens pages.\n",
    "- In movies-file the genres are listed for each movie\n",
    "- In ratings-file there are ratings from 600 users for movies they have watched."
   ]
  },
  {
   "cell_type": "code",
   "execution_count": 63,
   "id": "6c6f5306",
   "metadata": {},
   "outputs": [],
   "source": [
    "import pandas as pd\n",
    "import numpy as np\n",
    "from math import sqrt\n",
    "import matplotlib.pyplot as plt\n",
    "%matplotlib inline\n",
    "import sklearn"
   ]
  },
  {
   "cell_type": "code",
   "execution_count": 33,
   "id": "80c91cf7",
   "metadata": {},
   "outputs": [],
   "source": [
    "movies_df = pd.read_csv('Data/movies.csv')\n",
    "ratings_df = pd.read_csv('Data/ratings.csv')"
   ]
  },
  {
   "cell_type": "code",
   "execution_count": 34,
   "id": "8d5d689a",
   "metadata": {},
   "outputs": [
    {
     "data": {
      "text/html": [
       "<div>\n",
       "<style scoped>\n",
       "    .dataframe tbody tr th:only-of-type {\n",
       "        vertical-align: middle;\n",
       "    }\n",
       "\n",
       "    .dataframe tbody tr th {\n",
       "        vertical-align: top;\n",
       "    }\n",
       "\n",
       "    .dataframe thead th {\n",
       "        text-align: right;\n",
       "    }\n",
       "</style>\n",
       "<table border=\"1\" class=\"dataframe\">\n",
       "  <thead>\n",
       "    <tr style=\"text-align: right;\">\n",
       "      <th></th>\n",
       "      <th>movieId</th>\n",
       "      <th>title</th>\n",
       "      <th>genres</th>\n",
       "    </tr>\n",
       "  </thead>\n",
       "  <tbody>\n",
       "    <tr>\n",
       "      <th>0</th>\n",
       "      <td>1</td>\n",
       "      <td>Toy Story (1995)</td>\n",
       "      <td>Adventure|Animation|Children|Comedy|Fantasy</td>\n",
       "    </tr>\n",
       "    <tr>\n",
       "      <th>1</th>\n",
       "      <td>2</td>\n",
       "      <td>Jumanji (1995)</td>\n",
       "      <td>Adventure|Children|Fantasy</td>\n",
       "    </tr>\n",
       "    <tr>\n",
       "      <th>2</th>\n",
       "      <td>3</td>\n",
       "      <td>Grumpier Old Men (1995)</td>\n",
       "      <td>Comedy|Romance</td>\n",
       "    </tr>\n",
       "    <tr>\n",
       "      <th>3</th>\n",
       "      <td>4</td>\n",
       "      <td>Waiting to Exhale (1995)</td>\n",
       "      <td>Comedy|Drama|Romance</td>\n",
       "    </tr>\n",
       "    <tr>\n",
       "      <th>4</th>\n",
       "      <td>5</td>\n",
       "      <td>Father of the Bride Part II (1995)</td>\n",
       "      <td>Comedy</td>\n",
       "    </tr>\n",
       "  </tbody>\n",
       "</table>\n",
       "</div>"
      ],
      "text/plain": [
       "   movieId                               title  \\\n",
       "0        1                    Toy Story (1995)   \n",
       "1        2                      Jumanji (1995)   \n",
       "2        3             Grumpier Old Men (1995)   \n",
       "3        4            Waiting to Exhale (1995)   \n",
       "4        5  Father of the Bride Part II (1995)   \n",
       "\n",
       "                                        genres  \n",
       "0  Adventure|Animation|Children|Comedy|Fantasy  \n",
       "1                   Adventure|Children|Fantasy  \n",
       "2                               Comedy|Romance  \n",
       "3                         Comedy|Drama|Romance  \n",
       "4                                       Comedy  "
      ]
     },
     "execution_count": 34,
     "metadata": {},
     "output_type": "execute_result"
    }
   ],
   "source": [
    "movies_df.head()"
   ]
  },
  {
   "cell_type": "code",
   "execution_count": 35,
   "id": "0ad1f795",
   "metadata": {},
   "outputs": [
    {
     "data": {
      "text/html": [
       "<div>\n",
       "<style scoped>\n",
       "    .dataframe tbody tr th:only-of-type {\n",
       "        vertical-align: middle;\n",
       "    }\n",
       "\n",
       "    .dataframe tbody tr th {\n",
       "        vertical-align: top;\n",
       "    }\n",
       "\n",
       "    .dataframe thead th {\n",
       "        text-align: right;\n",
       "    }\n",
       "</style>\n",
       "<table border=\"1\" class=\"dataframe\">\n",
       "  <thead>\n",
       "    <tr style=\"text-align: right;\">\n",
       "      <th></th>\n",
       "      <th>userId</th>\n",
       "      <th>movieId</th>\n",
       "      <th>rating</th>\n",
       "      <th>timestamp</th>\n",
       "    </tr>\n",
       "  </thead>\n",
       "  <tbody>\n",
       "    <tr>\n",
       "      <th>0</th>\n",
       "      <td>1</td>\n",
       "      <td>1</td>\n",
       "      <td>4.0</td>\n",
       "      <td>964982703</td>\n",
       "    </tr>\n",
       "    <tr>\n",
       "      <th>1</th>\n",
       "      <td>1</td>\n",
       "      <td>3</td>\n",
       "      <td>4.0</td>\n",
       "      <td>964981247</td>\n",
       "    </tr>\n",
       "    <tr>\n",
       "      <th>2</th>\n",
       "      <td>1</td>\n",
       "      <td>6</td>\n",
       "      <td>4.0</td>\n",
       "      <td>964982224</td>\n",
       "    </tr>\n",
       "    <tr>\n",
       "      <th>3</th>\n",
       "      <td>1</td>\n",
       "      <td>47</td>\n",
       "      <td>5.0</td>\n",
       "      <td>964983815</td>\n",
       "    </tr>\n",
       "    <tr>\n",
       "      <th>4</th>\n",
       "      <td>1</td>\n",
       "      <td>50</td>\n",
       "      <td>5.0</td>\n",
       "      <td>964982931</td>\n",
       "    </tr>\n",
       "  </tbody>\n",
       "</table>\n",
       "</div>"
      ],
      "text/plain": [
       "   userId  movieId  rating  timestamp\n",
       "0       1        1     4.0  964982703\n",
       "1       1        3     4.0  964981247\n",
       "2       1        6     4.0  964982224\n",
       "3       1       47     5.0  964983815\n",
       "4       1       50     5.0  964982931"
      ]
     },
     "execution_count": 35,
     "metadata": {},
     "output_type": "execute_result"
    }
   ],
   "source": [
    "ratings_df.head()"
   ]
  },
  {
   "cell_type": "markdown",
   "id": "0fc54bfa",
   "metadata": {},
   "source": [
    "## 2. Pre-processing the data"
   ]
  },
  {
   "cell_type": "markdown",
   "id": "a837e812",
   "metadata": {},
   "source": [
    "Let's create two dataframes\n",
    "- movies_df : dataframe containing titles of the movies. \n",
    "- ratings_df: dataframe containing user ratings for the movies"
   ]
  },
  {
   "cell_type": "code",
   "execution_count": 36,
   "id": "92d94d2b",
   "metadata": {},
   "outputs": [
    {
     "data": {
      "text/html": [
       "<div>\n",
       "<style scoped>\n",
       "    .dataframe tbody tr th:only-of-type {\n",
       "        vertical-align: middle;\n",
       "    }\n",
       "\n",
       "    .dataframe tbody tr th {\n",
       "        vertical-align: top;\n",
       "    }\n",
       "\n",
       "    .dataframe thead th {\n",
       "        text-align: right;\n",
       "    }\n",
       "</style>\n",
       "<table border=\"1\" class=\"dataframe\">\n",
       "  <thead>\n",
       "    <tr style=\"text-align: right;\">\n",
       "      <th></th>\n",
       "      <th>movieId</th>\n",
       "      <th>title</th>\n",
       "    </tr>\n",
       "  </thead>\n",
       "  <tbody>\n",
       "    <tr>\n",
       "      <th>0</th>\n",
       "      <td>1</td>\n",
       "      <td>Toy Story</td>\n",
       "    </tr>\n",
       "    <tr>\n",
       "      <th>1</th>\n",
       "      <td>2</td>\n",
       "      <td>Jumanji</td>\n",
       "    </tr>\n",
       "    <tr>\n",
       "      <th>2</th>\n",
       "      <td>3</td>\n",
       "      <td>Grumpier Old Men</td>\n",
       "    </tr>\n",
       "    <tr>\n",
       "      <th>3</th>\n",
       "      <td>4</td>\n",
       "      <td>Waiting to Exhale</td>\n",
       "    </tr>\n",
       "    <tr>\n",
       "      <th>4</th>\n",
       "      <td>5</td>\n",
       "      <td>Father of the Bride Part II</td>\n",
       "    </tr>\n",
       "  </tbody>\n",
       "</table>\n",
       "</div>"
      ],
      "text/plain": [
       "   movieId                        title\n",
       "0        1                    Toy Story\n",
       "1        2                      Jumanji\n",
       "2        3             Grumpier Old Men\n",
       "3        4            Waiting to Exhale\n",
       "4        5  Father of the Bride Part II"
      ]
     },
     "execution_count": 36,
     "metadata": {},
     "output_type": "execute_result"
    }
   ],
   "source": [
    "# Drop the year information from the titles and remove any possible whiteplaces\n",
    "movies_df['title'] = movies_df.title.str.replace('(\\(\\d\\d\\d\\d\\))', '',regex=True).apply(lambda x: x.strip())\n",
    "movies_df = movies_df.drop(labels='genres', axis=1)\n",
    "movies_df.head()"
   ]
  },
  {
   "cell_type": "code",
   "execution_count": 37,
   "id": "4a05e383",
   "metadata": {},
   "outputs": [
    {
     "data": {
      "text/html": [
       "<div>\n",
       "<style scoped>\n",
       "    .dataframe tbody tr th:only-of-type {\n",
       "        vertical-align: middle;\n",
       "    }\n",
       "\n",
       "    .dataframe tbody tr th {\n",
       "        vertical-align: top;\n",
       "    }\n",
       "\n",
       "    .dataframe thead th {\n",
       "        text-align: right;\n",
       "    }\n",
       "</style>\n",
       "<table border=\"1\" class=\"dataframe\">\n",
       "  <thead>\n",
       "    <tr style=\"text-align: right;\">\n",
       "      <th></th>\n",
       "      <th>userId</th>\n",
       "      <th>movieId</th>\n",
       "      <th>rating</th>\n",
       "    </tr>\n",
       "  </thead>\n",
       "  <tbody>\n",
       "    <tr>\n",
       "      <th>0</th>\n",
       "      <td>1</td>\n",
       "      <td>1</td>\n",
       "      <td>4.0</td>\n",
       "    </tr>\n",
       "    <tr>\n",
       "      <th>1</th>\n",
       "      <td>1</td>\n",
       "      <td>3</td>\n",
       "      <td>4.0</td>\n",
       "    </tr>\n",
       "    <tr>\n",
       "      <th>2</th>\n",
       "      <td>1</td>\n",
       "      <td>6</td>\n",
       "      <td>4.0</td>\n",
       "    </tr>\n",
       "    <tr>\n",
       "      <th>3</th>\n",
       "      <td>1</td>\n",
       "      <td>47</td>\n",
       "      <td>5.0</td>\n",
       "    </tr>\n",
       "    <tr>\n",
       "      <th>4</th>\n",
       "      <td>1</td>\n",
       "      <td>50</td>\n",
       "      <td>5.0</td>\n",
       "    </tr>\n",
       "  </tbody>\n",
       "</table>\n",
       "</div>"
      ],
      "text/plain": [
       "   userId  movieId  rating\n",
       "0       1        1     4.0\n",
       "1       1        3     4.0\n",
       "2       1        6     4.0\n",
       "3       1       47     5.0\n",
       "4       1       50     5.0"
      ]
     },
     "execution_count": 37,
     "metadata": {},
     "output_type": "execute_result"
    }
   ],
   "source": [
    "ratings_df = ratings_df.drop(labels='timestamp', axis=1)\n",
    "ratings_df.head()"
   ]
  },
  {
   "cell_type": "markdown",
   "id": "c71317f4",
   "metadata": {},
   "source": [
    "### 3. Collaborative filtering"
   ]
  },
  {
   "cell_type": "markdown",
   "id": "c32af425",
   "metadata": {},
   "source": [
    "Collaborative filtering is so called user-to-user filtering. The idea is to find other users that are similar to the first user by their ratings and preferences. The recommendation system then makes recommendations based on preferences on these similar users to the first user. If the other users have liked items that this first user have not yet tried, they can be recommended to him/her.\n",
    "\n",
    "The steps needed to create collaborative filtering algorithm:\n",
    "- Create a user that we want to give recommendations to, and provide a list of movies and ratings for him/her\n",
    "- Calculate the similarity of other users vs. this user, based on the movies they have seen and their ratings\n",
    "- Find top 5-10 users by their similarity to this user\n",
    "- Recommend the items with the highest score to the user in question"
   ]
  },
  {
   "cell_type": "code",
   "execution_count": 38,
   "id": "d35ea90c",
   "metadata": {},
   "outputs": [
    {
     "data": {
      "text/plain": [
       "(9742,)"
      ]
     },
     "execution_count": 38,
     "metadata": {},
     "output_type": "execute_result"
    }
   ],
   "source": [
    "movies_df[\"title\"].shape"
   ]
  },
  {
   "cell_type": "markdown",
   "id": "416ef104",
   "metadata": {},
   "source": [
    "### 3.1 Create an example user to whom to give recommendations"
   ]
  },
  {
   "cell_type": "code",
   "execution_count": 125,
   "id": "f7b862d3",
   "metadata": {},
   "outputs": [
    {
     "data": {
      "text/html": [
       "<div>\n",
       "<style scoped>\n",
       "    .dataframe tbody tr th:only-of-type {\n",
       "        vertical-align: middle;\n",
       "    }\n",
       "\n",
       "    .dataframe tbody tr th {\n",
       "        vertical-align: top;\n",
       "    }\n",
       "\n",
       "    .dataframe thead th {\n",
       "        text-align: right;\n",
       "    }\n",
       "</style>\n",
       "<table border=\"1\" class=\"dataframe\">\n",
       "  <thead>\n",
       "    <tr style=\"text-align: right;\">\n",
       "      <th></th>\n",
       "      <th>movieId</th>\n",
       "      <th>title</th>\n",
       "      <th>rating</th>\n",
       "    </tr>\n",
       "  </thead>\n",
       "  <tbody>\n",
       "    <tr>\n",
       "      <th>0</th>\n",
       "      <td>44022</td>\n",
       "      <td>Ice Age 2: The Meltdown</td>\n",
       "      <td>5.0</td>\n",
       "    </tr>\n",
       "    <tr>\n",
       "      <th>1</th>\n",
       "      <td>1305</td>\n",
       "      <td>Paris, Texas</td>\n",
       "      <td>4.5</td>\n",
       "    </tr>\n",
       "    <tr>\n",
       "      <th>2</th>\n",
       "      <td>38061</td>\n",
       "      <td>Kiss Kiss Bang Bang</td>\n",
       "      <td>2.0</td>\n",
       "    </tr>\n",
       "    <tr>\n",
       "      <th>3</th>\n",
       "      <td>6370</td>\n",
       "      <td>Spanish Apartment, The (L'auberge espagnole)</td>\n",
       "      <td>3.0</td>\n",
       "    </tr>\n",
       "    <tr>\n",
       "      <th>4</th>\n",
       "      <td>3500</td>\n",
       "      <td>Mr. Saturday Night</td>\n",
       "      <td>4.0</td>\n",
       "    </tr>\n",
       "    <tr>\n",
       "      <th>5</th>\n",
       "      <td>1673</td>\n",
       "      <td>Boogie Nights</td>\n",
       "      <td>5.0</td>\n",
       "    </tr>\n",
       "  </tbody>\n",
       "</table>\n",
       "</div>"
      ],
      "text/plain": [
       "   movieId                                         title  rating\n",
       "0    44022                       Ice Age 2: The Meltdown     5.0\n",
       "1     1305                                  Paris, Texas     4.5\n",
       "2    38061                           Kiss Kiss Bang Bang     2.0\n",
       "3     6370  Spanish Apartment, The (L'auberge espagnole)     3.0\n",
       "4     3500                            Mr. Saturday Night     4.0\n",
       "5     1673                                 Boogie Nights     5.0"
      ]
     },
     "execution_count": 125,
     "metadata": {},
     "output_type": "execute_result"
    }
   ],
   "source": [
    "# Select randomly 5 movies for our user1\n",
    "import random\n",
    "user1 = movies_df.copy().sample(n=6,random_state=31).reset_index(drop=True)\n",
    "# Create ratings that user1 has given for these movies\n",
    "rating1=[5,4.5,2,3,4,5]\n",
    "user1[\"rating\"]=rating1\n",
    "user1.head(6)"
   ]
  },
  {
   "cell_type": "markdown",
   "id": "03b5e1ee",
   "metadata": {},
   "source": [
    "### 3.2 Find other users who have seen the same movies as user1"
   ]
  },
  {
   "cell_type": "code",
   "execution_count": 126,
   "id": "31d1b3f6",
   "metadata": {},
   "outputs": [
    {
     "data": {
      "text/html": [
       "<div>\n",
       "<style scoped>\n",
       "    .dataframe tbody tr th:only-of-type {\n",
       "        vertical-align: middle;\n",
       "    }\n",
       "\n",
       "    .dataframe tbody tr th {\n",
       "        vertical-align: top;\n",
       "    }\n",
       "\n",
       "    .dataframe thead th {\n",
       "        text-align: right;\n",
       "    }\n",
       "</style>\n",
       "<table border=\"1\" class=\"dataframe\">\n",
       "  <thead>\n",
       "    <tr style=\"text-align: right;\">\n",
       "      <th></th>\n",
       "      <th>userId</th>\n",
       "      <th>movieId</th>\n",
       "      <th>rating</th>\n",
       "    </tr>\n",
       "  </thead>\n",
       "  <tbody>\n",
       "    <tr>\n",
       "      <th>2071</th>\n",
       "      <td>18</td>\n",
       "      <td>38061</td>\n",
       "      <td>4.0</td>\n",
       "    </tr>\n",
       "    <tr>\n",
       "      <th>2073</th>\n",
       "      <td>18</td>\n",
       "      <td>44022</td>\n",
       "      <td>3.5</td>\n",
       "    </tr>\n",
       "    <tr>\n",
       "      <th>2920</th>\n",
       "      <td>19</td>\n",
       "      <td>3500</td>\n",
       "      <td>2.0</td>\n",
       "    </tr>\n",
       "    <tr>\n",
       "      <th>3431</th>\n",
       "      <td>21</td>\n",
       "      <td>44022</td>\n",
       "      <td>3.5</td>\n",
       "    </tr>\n",
       "    <tr>\n",
       "      <th>3973</th>\n",
       "      <td>24</td>\n",
       "      <td>38061</td>\n",
       "      <td>4.0</td>\n",
       "    </tr>\n",
       "  </tbody>\n",
       "</table>\n",
       "</div>"
      ],
      "text/plain": [
       "      userId  movieId  rating\n",
       "2071      18    38061     4.0\n",
       "2073      18    44022     3.5\n",
       "2920      19     3500     2.0\n",
       "3431      21    44022     3.5\n",
       "3973      24    38061     4.0"
      ]
     },
     "execution_count": 126,
     "metadata": {},
     "output_type": "execute_result"
    }
   ],
   "source": [
    "userList = ratings_df[ratings_df['movieId'].isin(user1['movieId'].tolist())]\n",
    "userList.head()"
   ]
  },
  {
   "cell_type": "code",
   "execution_count": 127,
   "id": "50299396",
   "metadata": {},
   "outputs": [
    {
     "data": {
      "text/plain": [
       "[(414,\n",
       "         userId  movieId  rating\n",
       "  62883     414     1673     4.0\n",
       "  64134     414     6370     5.0\n",
       "  64455     414    38061     4.0\n",
       "  64497     414    44022     2.5),\n",
       " (68,\n",
       "         userId  movieId  rating\n",
       "  10637      68     1673     3.0\n",
       "  11252      68    38061     3.5\n",
       "  11271      68    44022     3.5),\n",
       " (480,\n",
       "         userId  movieId  rating\n",
       "  76439     480     1673     4.5\n",
       "  76976     480    38061     4.0\n",
       "  77008     480    44022     3.0)]"
      ]
     },
     "execution_count": 127,
     "metadata": {},
     "output_type": "execute_result"
    }
   ],
   "source": [
    "# Group the dataframe by users, and look at one of the users\n",
    "userListGroup = userList.groupby(['userId'])\n",
    "# Sort the users so that those who have biggest number of movies in common with the user1 are top in the list\n",
    "userListGroup = sorted(userListGroup,  key=lambda x: len(x[1]), reverse=True)\n",
    "userListGroup[0:3]"
   ]
  },
  {
   "cell_type": "code",
   "execution_count": 128,
   "id": "241218d1",
   "metadata": {},
   "outputs": [],
   "source": [
    "#Select the first 100 users from this list\n",
    "userListGroup = userListGroup[0:100]"
   ]
  },
  {
   "cell_type": "markdown",
   "id": "2be0b62a",
   "metadata": {},
   "source": [
    "### 3.3 Calculate similarity score between the selected users and user1"
   ]
  },
  {
   "cell_type": "markdown",
   "id": "8a8f3b3f",
   "metadata": {},
   "source": [
    "Use Pearson correlation for calculating similarity scores"
   ]
  },
  {
   "cell_type": "code",
   "execution_count": 129,
   "id": "0094c250",
   "metadata": {},
   "outputs": [],
   "source": [
    "# The following dictionary contains user Id and the Pearson correlation coefficient\n",
    "pearsonCorrelationDict = {}\n",
    "\n",
    "#For every user group in our subset\n",
    "for name, group in userListGroup:\n",
    "    # Sort the values by movieId both for user1 and group\n",
    "    user1 = user1.sort_values(by='movieId')\n",
    "    group = group.sort_values(by='movieId')\n",
    "    #Number of ratings for this reference user\n",
    "    nRatings = len(group)\n",
    "    #Get the user1 ratings for those movies that both users have \n",
    "    user1Ratings = user1[user1['movieId'].isin(group['movieId'].tolist())]\n",
    "    user1RatingList = user1Ratings['rating'].tolist()\n",
    "    #Let's also put the current user group reviews in a list format\n",
    "    groupRatingList = group['rating'].tolist()\n",
    "    # Calculate the pearson correlation between two users, so called, x and y\n",
    "    Sxx = sum([i**2 for i in user1RatingList]) - pow(sum(user1RatingList),2)/float(nRatings)\n",
    "    Syy = sum([i**2 for i in groupRatingList]) - pow(sum(groupRatingList),2)/float(nRatings)\n",
    "    Sxy = sum( i*j for i, j in \n",
    "              zip(user1RatingList, groupRatingList)) - sum(user1RatingList)*sum(groupRatingList)/float(nRatings)\n",
    "    \n",
    "    #If the denominator is different than zero, then divide, else, 0 correlation.\n",
    "    if Sxx != 0 and Syy != 0:\n",
    "        pearsonCorrelationDict[name] = Sxy/np.sqrt(Sxx*Syy)\n",
    "    else:\n",
    "        pearsonCorrelationDict[name] = 0\n"
   ]
  },
  {
   "cell_type": "code",
   "execution_count": 130,
   "id": "229de632",
   "metadata": {},
   "outputs": [
    {
     "data": {
      "text/plain": [
       "dict_items([(414, -0.5659164584181102), (68, -0.5000000000000036), (480, -0.1889822365046138), (606, 0.9707253433941623), (18, -1.0), (57, 0), (105, 1.0), (132, -1.0), (232, -1.0), (239, -1.0), (249, -1.0), (288, -1.0), (307, 1.0), (318, 1.0), (356, -1.0), (370, -1.0), (474, 1.0), (483, -1.0), (560, -1.0), (580, -1.0), (599, 1.0), (19, 0), (21, 0), (24, 0), (28, 0), (33, 0), (42, 0), (50, 0), (62, 0), (64, 0), (74, 0), (84, 0), (89, 0), (111, 0), (119, 0), (122, 0), (177, 0), (178, 0), (182, 0), (187, 0), (195, 0), (200, 0), (202, 0), (218, 0), (219, 0), (221, 0), (254, 0), (256, 0), (260, 0), (268, 0), (274, 0), (279, 0), (293, 0), (298, 0), (330, 0), (335, 0), (352, 0), (361, 0), (368, 0), (380, 0), (381, 0), (385, 0), (387, 0), (388, 0), (405, 0), (448, 0), (450, 0), (475, 0), (506, 0), (509, 0), (510, 0), (514, 0), (522, 0), (546, 0), (554, 0), (555, 0), (561, 0), (590, 0), (596, 0), (597, 0), (600, 0), (603, 0), (608, 0), (610, 0)])"
      ]
     },
     "execution_count": 130,
     "metadata": {},
     "output_type": "execute_result"
    }
   ],
   "source": [
    "pearsonCorrelationDict.items()"
   ]
  },
  {
   "cell_type": "markdown",
   "id": "c88884b6",
   "metadata": {},
   "source": [
    "### 3.4 Get top 50 users by their similarity score"
   ]
  },
  {
   "cell_type": "code",
   "execution_count": 131,
   "id": "62ff649a",
   "metadata": {},
   "outputs": [
    {
     "data": {
      "text/html": [
       "<div>\n",
       "<style scoped>\n",
       "    .dataframe tbody tr th:only-of-type {\n",
       "        vertical-align: middle;\n",
       "    }\n",
       "\n",
       "    .dataframe tbody tr th {\n",
       "        vertical-align: top;\n",
       "    }\n",
       "\n",
       "    .dataframe thead th {\n",
       "        text-align: right;\n",
       "    }\n",
       "</style>\n",
       "<table border=\"1\" class=\"dataframe\">\n",
       "  <thead>\n",
       "    <tr style=\"text-align: right;\">\n",
       "      <th></th>\n",
       "      <th>similarityScore</th>\n",
       "      <th>userId</th>\n",
       "    </tr>\n",
       "  </thead>\n",
       "  <tbody>\n",
       "    <tr>\n",
       "      <th>12</th>\n",
       "      <td>1.0</td>\n",
       "      <td>307</td>\n",
       "    </tr>\n",
       "    <tr>\n",
       "      <th>6</th>\n",
       "      <td>1.0</td>\n",
       "      <td>105</td>\n",
       "    </tr>\n",
       "    <tr>\n",
       "      <th>20</th>\n",
       "      <td>1.0</td>\n",
       "      <td>599</td>\n",
       "    </tr>\n",
       "    <tr>\n",
       "      <th>16</th>\n",
       "      <td>1.0</td>\n",
       "      <td>474</td>\n",
       "    </tr>\n",
       "    <tr>\n",
       "      <th>13</th>\n",
       "      <td>1.0</td>\n",
       "      <td>318</td>\n",
       "    </tr>\n",
       "  </tbody>\n",
       "</table>\n",
       "</div>"
      ],
      "text/plain": [
       "    similarityScore  userId\n",
       "12              1.0     307\n",
       "6               1.0     105\n",
       "20              1.0     599\n",
       "16              1.0     474\n",
       "13              1.0     318"
      ]
     },
     "execution_count": 131,
     "metadata": {},
     "output_type": "execute_result"
    }
   ],
   "source": [
    "pearson_df = pd.DataFrame.from_dict(pearsonCorrelationDict, orient='index')\n",
    "pearson_df.columns = ['similarityScore']\n",
    "pearson_df['userId'] = pearson_df.index\n",
    "pearson_df.index = range(len(pearson_df))\n",
    "top50=pearson_df.sort_values(by='similarityScore', ascending=False)[0:50]\n",
    "top50.head()"
   ]
  },
  {
   "cell_type": "markdown",
   "id": "3d9d393b",
   "metadata": {},
   "source": [
    "### 3.5 Create recommendations for user1 based on top 50 similar users"
   ]
  },
  {
   "cell_type": "markdown",
   "id": "8fb5d41b",
   "metadata": {},
   "source": [
    "Calculate weighted average of the ratings of the movies done by top 50 similar users. Pearson correlation coefficient is the weight."
   ]
  },
  {
   "cell_type": "code",
   "execution_count": 132,
   "id": "07f721e5",
   "metadata": {},
   "outputs": [
    {
     "data": {
      "text/html": [
       "<div>\n",
       "<style scoped>\n",
       "    .dataframe tbody tr th:only-of-type {\n",
       "        vertical-align: middle;\n",
       "    }\n",
       "\n",
       "    .dataframe tbody tr th {\n",
       "        vertical-align: top;\n",
       "    }\n",
       "\n",
       "    .dataframe thead th {\n",
       "        text-align: right;\n",
       "    }\n",
       "</style>\n",
       "<table border=\"1\" class=\"dataframe\">\n",
       "  <thead>\n",
       "    <tr style=\"text-align: right;\">\n",
       "      <th></th>\n",
       "      <th>similarityScore</th>\n",
       "      <th>userId</th>\n",
       "      <th>movieId</th>\n",
       "      <th>rating</th>\n",
       "      <th>weightedRating</th>\n",
       "    </tr>\n",
       "  </thead>\n",
       "  <tbody>\n",
       "    <tr>\n",
       "      <th>0</th>\n",
       "      <td>1.0</td>\n",
       "      <td>307</td>\n",
       "      <td>1</td>\n",
       "      <td>4.0</td>\n",
       "      <td>4.0</td>\n",
       "    </tr>\n",
       "    <tr>\n",
       "      <th>1</th>\n",
       "      <td>1.0</td>\n",
       "      <td>307</td>\n",
       "      <td>2</td>\n",
       "      <td>2.5</td>\n",
       "      <td>2.5</td>\n",
       "    </tr>\n",
       "    <tr>\n",
       "      <th>2</th>\n",
       "      <td>1.0</td>\n",
       "      <td>307</td>\n",
       "      <td>3</td>\n",
       "      <td>3.5</td>\n",
       "      <td>3.5</td>\n",
       "    </tr>\n",
       "    <tr>\n",
       "      <th>3</th>\n",
       "      <td>1.0</td>\n",
       "      <td>307</td>\n",
       "      <td>10</td>\n",
       "      <td>2.5</td>\n",
       "      <td>2.5</td>\n",
       "    </tr>\n",
       "    <tr>\n",
       "      <th>4</th>\n",
       "      <td>1.0</td>\n",
       "      <td>307</td>\n",
       "      <td>16</td>\n",
       "      <td>4.5</td>\n",
       "      <td>4.5</td>\n",
       "    </tr>\n",
       "  </tbody>\n",
       "</table>\n",
       "</div>"
      ],
      "text/plain": [
       "   similarityScore  userId  movieId  rating  weightedRating\n",
       "0              1.0     307        1     4.0             4.0\n",
       "1              1.0     307        2     2.5             2.5\n",
       "2              1.0     307        3     3.5             3.5\n",
       "3              1.0     307       10     2.5             2.5\n",
       "4              1.0     307       16     4.5             4.5"
      ]
     },
     "execution_count": 132,
     "metadata": {},
     "output_type": "execute_result"
    }
   ],
   "source": [
    "# Merge top50 users with their ratings\n",
    "top50Rating=top50.merge(ratings_df, left_on='userId', right_on='userId', how='inner')\n",
    "#Multiply the similarity score by the user's ratings\n",
    "top50Rating['weightedRating'] = top50Rating['similarityScore']*top50Rating['rating']\n",
    "top50Rating.head()"
   ]
  },
  {
   "cell_type": "markdown",
   "id": "7832c156",
   "metadata": {},
   "source": [
    "First, sum the similarityScore and weightedRating , when dataframe is grouped by movieId "
   ]
  },
  {
   "cell_type": "code",
   "execution_count": 134,
   "id": "59b17375",
   "metadata": {},
   "outputs": [
    {
     "data": {
      "text/html": [
       "<div>\n",
       "<style scoped>\n",
       "    .dataframe tbody tr th:only-of-type {\n",
       "        vertical-align: middle;\n",
       "    }\n",
       "\n",
       "    .dataframe tbody tr th {\n",
       "        vertical-align: top;\n",
       "    }\n",
       "\n",
       "    .dataframe thead th {\n",
       "        text-align: right;\n",
       "    }\n",
       "</style>\n",
       "<table border=\"1\" class=\"dataframe\">\n",
       "  <thead>\n",
       "    <tr style=\"text-align: right;\">\n",
       "      <th></th>\n",
       "      <th>sum_similarityScore</th>\n",
       "      <th>sum_weightedRating</th>\n",
       "    </tr>\n",
       "    <tr>\n",
       "      <th>movieId</th>\n",
       "      <th></th>\n",
       "      <th></th>\n",
       "    </tr>\n",
       "  </thead>\n",
       "  <tbody>\n",
       "    <tr>\n",
       "      <th>1</th>\n",
       "      <td>3.970725</td>\n",
       "      <td>13.426813</td>\n",
       "    </tr>\n",
       "    <tr>\n",
       "      <th>2</th>\n",
       "      <td>4.000000</td>\n",
       "      <td>11.500000</td>\n",
       "    </tr>\n",
       "    <tr>\n",
       "      <th>3</th>\n",
       "      <td>2.000000</td>\n",
       "      <td>5.000000</td>\n",
       "    </tr>\n",
       "    <tr>\n",
       "      <th>4</th>\n",
       "      <td>0.000000</td>\n",
       "      <td>0.000000</td>\n",
       "    </tr>\n",
       "    <tr>\n",
       "      <th>5</th>\n",
       "      <td>1.000000</td>\n",
       "      <td>1.500000</td>\n",
       "    </tr>\n",
       "  </tbody>\n",
       "</table>\n",
       "</div>"
      ],
      "text/plain": [
       "         sum_similarityScore  sum_weightedRating\n",
       "movieId                                         \n",
       "1                   3.970725           13.426813\n",
       "2                   4.000000           11.500000\n",
       "3                   2.000000            5.000000\n",
       "4                   0.000000            0.000000\n",
       "5                   1.000000            1.500000"
      ]
     },
     "execution_count": 134,
     "metadata": {},
     "output_type": "execute_result"
    }
   ],
   "source": [
    "# Calculate a sum of similarity scores and weights for the top50 users after grouping it up by movieId\n",
    "Top50Rating_temp = top50Rating.groupby('movieId').sum()[['similarityScore','weightedRating']]\n",
    "Top50Rating_temp.columns = ['sum_similarityScore','sum_weightedRating']\n",
    "Top50Rating_temp.head()"
   ]
  },
  {
   "cell_type": "markdown",
   "id": "efeb6604",
   "metadata": {},
   "source": [
    "After that, calculate the weighted average of recommendation score for each movieId."
   ]
  },
  {
   "cell_type": "code",
   "execution_count": 143,
   "id": "099f186a",
   "metadata": {},
   "outputs": [
    {
     "data": {
      "text/html": [
       "<div>\n",
       "<style scoped>\n",
       "    .dataframe tbody tr th:only-of-type {\n",
       "        vertical-align: middle;\n",
       "    }\n",
       "\n",
       "    .dataframe tbody tr th {\n",
       "        vertical-align: top;\n",
       "    }\n",
       "\n",
       "    .dataframe thead th {\n",
       "        text-align: right;\n",
       "    }\n",
       "</style>\n",
       "<table border=\"1\" class=\"dataframe\">\n",
       "  <thead>\n",
       "    <tr style=\"text-align: right;\">\n",
       "      <th></th>\n",
       "      <th>recommendation score</th>\n",
       "      <th>movieId</th>\n",
       "    </tr>\n",
       "    <tr>\n",
       "      <th>movieId</th>\n",
       "      <th></th>\n",
       "      <th></th>\n",
       "    </tr>\n",
       "  </thead>\n",
       "  <tbody>\n",
       "    <tr>\n",
       "      <th>1</th>\n",
       "      <td>3.381451</td>\n",
       "      <td>1</td>\n",
       "    </tr>\n",
       "    <tr>\n",
       "      <th>2</th>\n",
       "      <td>2.875000</td>\n",
       "      <td>2</td>\n",
       "    </tr>\n",
       "    <tr>\n",
       "      <th>3</th>\n",
       "      <td>2.500000</td>\n",
       "      <td>3</td>\n",
       "    </tr>\n",
       "    <tr>\n",
       "      <th>4</th>\n",
       "      <td>NaN</td>\n",
       "      <td>4</td>\n",
       "    </tr>\n",
       "    <tr>\n",
       "      <th>5</th>\n",
       "      <td>1.500000</td>\n",
       "      <td>5</td>\n",
       "    </tr>\n",
       "  </tbody>\n",
       "</table>\n",
       "</div>"
      ],
      "text/plain": [
       "         recommendation score  movieId\n",
       "movieId                               \n",
       "1                    3.381451        1\n",
       "2                    2.875000        2\n",
       "3                    2.500000        3\n",
       "4                         NaN        4\n",
       "5                    1.500000        5"
      ]
     },
     "execution_count": 143,
     "metadata": {},
     "output_type": "execute_result"
    }
   ],
   "source": [
    "recommendation_df = pd.DataFrame() \n",
    "recommendation_df['recommendation score'] = \\\n",
    "    Top50Rating_temp['sum_weightedRating']/Top50Rating_temp['sum_similarityScore']\n",
    "recommendation_df['movieId'] = Top50Rating_temp.index\n",
    "recommendation_df.head()"
   ]
  },
  {
   "cell_type": "markdown",
   "id": "58179901",
   "metadata": {},
   "source": [
    "Sort the recommendation scores to get the topmost recommendations"
   ]
  },
  {
   "cell_type": "code",
   "execution_count": 144,
   "id": "bb4ee7f8",
   "metadata": {},
   "outputs": [
    {
     "data": {
      "text/html": [
       "<div>\n",
       "<style scoped>\n",
       "    .dataframe tbody tr th:only-of-type {\n",
       "        vertical-align: middle;\n",
       "    }\n",
       "\n",
       "    .dataframe tbody tr th {\n",
       "        vertical-align: top;\n",
       "    }\n",
       "\n",
       "    .dataframe thead th {\n",
       "        text-align: right;\n",
       "    }\n",
       "</style>\n",
       "<table border=\"1\" class=\"dataframe\">\n",
       "  <thead>\n",
       "    <tr style=\"text-align: right;\">\n",
       "      <th></th>\n",
       "      <th>recommendation score</th>\n",
       "      <th>movieId</th>\n",
       "    </tr>\n",
       "    <tr>\n",
       "      <th>movieId</th>\n",
       "      <th></th>\n",
       "      <th></th>\n",
       "    </tr>\n",
       "  </thead>\n",
       "  <tbody>\n",
       "    <tr>\n",
       "      <th>7767</th>\n",
       "      <td>5.0</td>\n",
       "      <td>7767</td>\n",
       "    </tr>\n",
       "    <tr>\n",
       "      <th>117531</th>\n",
       "      <td>5.0</td>\n",
       "      <td>117531</td>\n",
       "    </tr>\n",
       "    <tr>\n",
       "      <th>3549</th>\n",
       "      <td>5.0</td>\n",
       "      <td>3549</td>\n",
       "    </tr>\n",
       "    <tr>\n",
       "      <th>69134</th>\n",
       "      <td>5.0</td>\n",
       "      <td>69134</td>\n",
       "    </tr>\n",
       "    <tr>\n",
       "      <th>147250</th>\n",
       "      <td>5.0</td>\n",
       "      <td>147250</td>\n",
       "    </tr>\n",
       "    <tr>\n",
       "      <th>170597</th>\n",
       "      <td>5.0</td>\n",
       "      <td>170597</td>\n",
       "    </tr>\n",
       "    <tr>\n",
       "      <th>92259</th>\n",
       "      <td>5.0</td>\n",
       "      <td>92259</td>\n",
       "    </tr>\n",
       "    <tr>\n",
       "      <th>134796</th>\n",
       "      <td>5.0</td>\n",
       "      <td>134796</td>\n",
       "    </tr>\n",
       "    <tr>\n",
       "      <th>49347</th>\n",
       "      <td>5.0</td>\n",
       "      <td>49347</td>\n",
       "    </tr>\n",
       "    <tr>\n",
       "      <th>5034</th>\n",
       "      <td>5.0</td>\n",
       "      <td>5034</td>\n",
       "    </tr>\n",
       "  </tbody>\n",
       "</table>\n",
       "</div>"
      ],
      "text/plain": [
       "         recommendation score  movieId\n",
       "movieId                               \n",
       "7767                      5.0     7767\n",
       "117531                    5.0   117531\n",
       "3549                      5.0     3549\n",
       "69134                     5.0    69134\n",
       "147250                    5.0   147250\n",
       "170597                    5.0   170597\n",
       "92259                     5.0    92259\n",
       "134796                    5.0   134796\n",
       "49347                     5.0    49347\n",
       "5034                      5.0     5034"
      ]
     },
     "execution_count": 144,
     "metadata": {},
     "output_type": "execute_result"
    }
   ],
   "source": [
    "recommendation_df = recommendation_df.sort_values(by='recommendation score', ascending=False)\n",
    "recommendation_df.head(10)"
   ]
  },
  {
   "cell_type": "code",
   "execution_count": 145,
   "id": "42d6e546",
   "metadata": {},
   "outputs": [
    {
     "data": {
      "text/html": [
       "<div>\n",
       "<style scoped>\n",
       "    .dataframe tbody tr th:only-of-type {\n",
       "        vertical-align: middle;\n",
       "    }\n",
       "\n",
       "    .dataframe tbody tr th {\n",
       "        vertical-align: top;\n",
       "    }\n",
       "\n",
       "    .dataframe thead th {\n",
       "        text-align: right;\n",
       "    }\n",
       "</style>\n",
       "<table border=\"1\" class=\"dataframe\">\n",
       "  <thead>\n",
       "    <tr style=\"text-align: right;\">\n",
       "      <th></th>\n",
       "      <th>movieId</th>\n",
       "      <th>title</th>\n",
       "    </tr>\n",
       "  </thead>\n",
       "  <tbody>\n",
       "    <tr>\n",
       "      <th>2651</th>\n",
       "      <td>3549</td>\n",
       "      <td>Guys and Dolls</td>\n",
       "    </tr>\n",
       "    <tr>\n",
       "      <th>3660</th>\n",
       "      <td>5034</td>\n",
       "      <td>Truly, Madly, Deeply</td>\n",
       "    </tr>\n",
       "    <tr>\n",
       "      <th>5013</th>\n",
       "      <td>7767</td>\n",
       "      <td>Best of Youth, The (La meglio gioventù)</td>\n",
       "    </tr>\n",
       "    <tr>\n",
       "      <th>6354</th>\n",
       "      <td>49347</td>\n",
       "      <td>Fast Food Nation</td>\n",
       "    </tr>\n",
       "    <tr>\n",
       "      <th>7045</th>\n",
       "      <td>69134</td>\n",
       "      <td>Antichrist</td>\n",
       "    </tr>\n",
       "    <tr>\n",
       "      <th>7802</th>\n",
       "      <td>92259</td>\n",
       "      <td>Intouchables</td>\n",
       "    </tr>\n",
       "    <tr>\n",
       "      <th>8591</th>\n",
       "      <td>117531</td>\n",
       "      <td>Watermark</td>\n",
       "    </tr>\n",
       "    <tr>\n",
       "      <th>8896</th>\n",
       "      <td>134796</td>\n",
       "      <td>Bitter Lake</td>\n",
       "    </tr>\n",
       "    <tr>\n",
       "      <th>9138</th>\n",
       "      <td>147250</td>\n",
       "      <td>The Adventures of Sherlock Holmes and Doctor W...</td>\n",
       "    </tr>\n",
       "    <tr>\n",
       "      <th>9495</th>\n",
       "      <td>170597</td>\n",
       "      <td>A Plasticine Crow</td>\n",
       "    </tr>\n",
       "  </tbody>\n",
       "</table>\n",
       "</div>"
      ],
      "text/plain": [
       "      movieId                                              title\n",
       "2651     3549                                     Guys and Dolls\n",
       "3660     5034                               Truly, Madly, Deeply\n",
       "5013     7767            Best of Youth, The (La meglio gioventù)\n",
       "6354    49347                                   Fast Food Nation\n",
       "7045    69134                                         Antichrist\n",
       "7802    92259                                       Intouchables\n",
       "8591   117531                                          Watermark\n",
       "8896   134796                                        Bitter Lake\n",
       "9138   147250  The Adventures of Sherlock Holmes and Doctor W...\n",
       "9495   170597                                  A Plasticine Crow"
      ]
     },
     "execution_count": 145,
     "metadata": {},
     "output_type": "execute_result"
    }
   ],
   "source": [
    "movies_df.loc[movies_df['movieId'].isin(recommendation_df.head(10)['movieId'].tolist())]"
   ]
  }
 ],
 "metadata": {
  "kernelspec": {
   "display_name": "Python 3 (ipykernel)",
   "language": "python",
   "name": "python3"
  },
  "language_info": {
   "codemirror_mode": {
    "name": "ipython",
    "version": 3
   },
   "file_extension": ".py",
   "mimetype": "text/x-python",
   "name": "python",
   "nbconvert_exporter": "python",
   "pygments_lexer": "ipython3",
   "version": "3.9.7"
  }
 },
 "nbformat": 4,
 "nbformat_minor": 5
}
